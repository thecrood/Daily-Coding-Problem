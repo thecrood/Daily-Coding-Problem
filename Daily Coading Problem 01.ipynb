{
 "cells": [
  {
   "cell_type": "markdown",
   "id": "4df2215f",
   "metadata": {},
   "source": [
    "# Daily Coding Problem 01"
   ]
  },
  {
   "cell_type": "markdown",
   "id": "68d2dc9f",
   "metadata": {},
   "source": [
    "This problem was asked by Google.\n",
    "\n",
    "Given a list of numbers and a number k, return whether any two numbers from the list add up to k.\n",
    "\n",
    "For example, given [10, 15, 3, 7] and k of 17, return true since 10 + 7 is 17."
   ]
  },
  {
   "cell_type": "code",
   "execution_count": 10,
   "id": "723b72cf",
   "metadata": {},
   "outputs": [
    {
     "name": "stdout",
     "output_type": "stream",
     "text": [
      "True\n"
     ]
    }
   ],
   "source": [
    "def check_sum(nums, k):   \n",
    "    for i in range(len(nums)):\n",
    "        for j in range(i+1, len(nums)):\n",
    "            if nums[i] + nums[j] == k:\n",
    "                return True\n",
    "    return False\n",
    "\n",
    "\n",
    "print(check_sum([10,15,3,7], 17))"
   ]
  },
  {
   "cell_type": "code",
   "execution_count": null,
   "id": "2f5c65d1",
   "metadata": {},
   "outputs": [],
   "source": []
  }
 ],
 "metadata": {
  "kernelspec": {
   "display_name": "Python 3 (ipykernel)",
   "language": "python",
   "name": "python3"
  },
  "language_info": {
   "codemirror_mode": {
    "name": "ipython",
    "version": 3
   },
   "file_extension": ".py",
   "mimetype": "text/x-python",
   "name": "python",
   "nbconvert_exporter": "python",
   "pygments_lexer": "ipython3",
   "version": "3.8.10"
  }
 },
 "nbformat": 4,
 "nbformat_minor": 5
}
